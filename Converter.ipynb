{
 "cells": [
  {
   "cell_type": "code",
   "execution_count": 6,
   "id": "cb894eda-b60e-42f5-ae0a-de2708b0605c",
   "metadata": {},
   "outputs": [],
   "source": [
    "from pdf2docx import Converter"
   ]
  },
  {
   "cell_type": "code",
   "execution_count": 8,
   "id": "f9e5a740-d60e-4f1d-9899-8f0e0c02b0db",
   "metadata": {},
   "outputs": [
    {
     "name": "stderr",
     "output_type": "stream",
     "text": [
      "[INFO] Start to convert C:\\Users\\Sidhant Jha\\Downloads\\Project Report.pdf\n",
      "[INFO] \u001b[1;36m[1/4] Opening document...\u001b[0m\n",
      "[INFO] \u001b[1;36m[2/4] Analyzing document...\u001b[0m\n",
      "[INFO] \u001b[1;36m[3/4] Parsing pages...\u001b[0m\n",
      "[INFO] (1/24) Page 1\n",
      "[INFO] (2/24) Page 2\n",
      "[INFO] (3/24) Page 3\n",
      "[INFO] (4/24) Page 4\n",
      "[INFO] (5/24) Page 5\n",
      "[INFO] (6/24) Page 6\n",
      "[INFO] (7/24) Page 7\n",
      "[INFO] (8/24) Page 8\n",
      "[INFO] (9/24) Page 9\n",
      "[INFO] (10/24) Page 10\n",
      "[INFO] (11/24) Page 11\n",
      "[INFO] (12/24) Page 12\n",
      "[INFO] (13/24) Page 13\n",
      "[INFO] (14/24) Page 14\n",
      "[INFO] (15/24) Page 15\n",
      "[INFO] (16/24) Page 16\n",
      "[INFO] (17/24) Page 17\n",
      "[INFO] (18/24) Page 18\n",
      "[INFO] (19/24) Page 19\n",
      "[INFO] (20/24) Page 20\n",
      "[INFO] (21/24) Page 21\n",
      "[INFO] (22/24) Page 22\n",
      "[INFO] (23/24) Page 23\n",
      "[INFO] (24/24) Page 24\n",
      "[INFO] \u001b[1;36m[4/4] Creating pages...\u001b[0m\n",
      "[INFO] (1/24) Page 1\n",
      "[INFO] (2/24) Page 2\n",
      "[INFO] (3/24) Page 3\n",
      "[INFO] (4/24) Page 4\n",
      "[INFO] (5/24) Page 5\n",
      "[INFO] (6/24) Page 6\n",
      "[INFO] (7/24) Page 7\n",
      "[INFO] (8/24) Page 8\n",
      "[INFO] (9/24) Page 9\n",
      "[INFO] (10/24) Page 10\n",
      "[INFO] (11/24) Page 11\n",
      "[INFO] (12/24) Page 12\n",
      "[INFO] (13/24) Page 13\n",
      "[INFO] (14/24) Page 14\n",
      "[INFO] (15/24) Page 15\n",
      "[INFO] (16/24) Page 16\n",
      "[INFO] (17/24) Page 17\n",
      "[INFO] (18/24) Page 18\n",
      "[INFO] (19/24) Page 19\n",
      "[INFO] (20/24) Page 20\n",
      "[INFO] (21/24) Page 21\n",
      "[INFO] (22/24) Page 22\n",
      "[INFO] (23/24) Page 23\n",
      "[INFO] (24/24) Page 24\n",
      "[INFO] Terminated in 3.11s.\n"
     ]
    }
   ],
   "source": [
    "pdf_file = \"C:\\\\Users\\\\Sidhant Jha\\\\Downloads\\\\Project Report.pdf\"\n",
    "docx_file = \"C:\\\\Users\\\\Sidhant Jha\\\\Downloads\\\\Project Report.docx\"\n",
    "\n",
    "cv = Converter(pdf_file)\n",
    "cv.convert(docx_file)\n",
    "cv.close()"
   ]
  },
  {
   "cell_type": "code",
   "execution_count": null,
   "id": "6ad53514-e019-4791-a86e-fa2406e2fb43",
   "metadata": {},
   "outputs": [],
   "source": []
  }
 ],
 "metadata": {
  "kernelspec": {
   "display_name": "Python 3 (ipykernel)",
   "language": "python",
   "name": "python3"
  },
  "language_info": {
   "codemirror_mode": {
    "name": "ipython",
    "version": 3
   },
   "file_extension": ".py",
   "mimetype": "text/x-python",
   "name": "python",
   "nbconvert_exporter": "python",
   "pygments_lexer": "ipython3",
   "version": "3.12.4"
  }
 },
 "nbformat": 4,
 "nbformat_minor": 5
}
